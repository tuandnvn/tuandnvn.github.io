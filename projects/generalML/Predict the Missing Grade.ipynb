{
 "cells": [
  {
   "cell_type": "markdown",
   "metadata": {},
   "source": [
    "The records provided to you are the grades obtained by students who had opted for the following combinations of subjects or courses and obtained a passing grade in each subject. The individual subjects in the data are: \n",
    "English, Physics, Chemistry, Mathematics, Computer Science, Biology, Physical Education, Economics, Accountancy and Business Studies.\n",
    "\n",
    "The most dominant subject combinations, account for approximately 99% of the data are:\n",
    "\n",
    "`\n",
    "English, Physics, Chemistry, Mathematics, Computer Science    \n",
    "English, Physics, Chemistry, Mathematics, Physical Education    \n",
    "English, Physics, Chemistry, Mathematics, Economics    \n",
    "English, Physics, Chemistry, Mathematics, Biology  \n",
    "English, Economics, Accountancy, Mathematics, Business Studies  \n",
    "`\n",
    "\n",
    "The grades of students in four subjects (other than Mathematics) are provided to you. Can you predict what grade they had obtained in Mathematics?\n",
    "\n",
    "To help you build a prediction engine, we will provide you with a training file, containing the grade points obtained by students with the above subject combinations, in all five subjects.\n",
    "\n",
    "** Scoring **\n",
    "\n",
    "For each of the N records in the input file, we will compute:\n",
    "\n",
    "`p = abs(Predicted Grade Point in Mathematics - Actual Grade Point in Mathematics)`\n",
    "\n",
    "Where 'abs' indicates the Absolute Value or Magnitude. If p = 0 or 1 your answer for that particular student record will be considered correct. i.e, we allow a tolerance of one grade point away from the correct answer, to take into consideration the marginal errors which might occur during the testing or grading process.\n",
    "\n",
    "`Score = 100 * ((C-W)/N) `\n",
    "\n",
    "Where C = Number of Correct predictions, not more than one grade point away from the actual grade point assigned. \n",
    "\n",
    "W = Number of wrong (incorrect) predictions and \n",
    "\n",
    "N = Total number of records in the input."
   ]
  },
  {
   "cell_type": "code",
   "execution_count": 12,
   "metadata": {
    "collapsed": true
   },
   "outputs": [],
   "source": [
    "import json"
   ]
  },
  {
   "cell_type": "code",
   "execution_count": 4,
   "metadata": {},
   "outputs": [
    {
     "data": {
      "text/plain": [
       "{'Chemistry': 7,\n",
       " 'English': 4,\n",
       " 'Mathematics': 6,\n",
       " 'PhysicalEducation': 3,\n",
       " 'Physics': 8,\n",
       " 'serial': 195490}"
      ]
     },
     "execution_count": 4,
     "metadata": {},
     "output_type": "execute_result"
    }
   ],
   "source": [
    "t = \"\"\"{\"Physics\":8,\"Chemistry\":7,\"PhysicalEducation\":3,\"English\":4,\"Mathematics\":6,\"serial\":195490}\"\"\"\n",
    "json.loads(t)"
   ]
  },
  {
   "cell_type": "markdown",
   "metadata": {},
   "source": [
    "Let's create a separate model for each combination of subject. Because we know that 99% of test just belongs to 5 combinations, we can focus on these four combinations only. For all the other case, we can just produce an average score of that person."
   ]
  },
  {
   "cell_type": "code",
   "execution_count": 129,
   "metadata": {
    "collapsed": true
   },
   "outputs": [],
   "source": [
    "combinations_text = ['English, Physics, Chemistry, ComputerScience, Mathematics',\n",
    "'English, Physics, Chemistry, PhysicalEducation, Mathematics',\n",
    "'English, Physics, Chemistry, Economics, Mathematics',\n",
    "'English, Physics, Chemistry, Biology, Mathematics',  \n",
    "'English, Economics, Accountancy, BusinessStudies, Mathematics']\n",
    "combinations = [c.split(', ') for c in combinations_text]"
   ]
  },
  {
   "cell_type": "code",
   "execution_count": 36,
   "metadata": {},
   "outputs": [
    {
     "data": {
      "text/plain": [
       "[['English', 'Physics', 'Chemistry', 'ComputerScience', 'Mathematics'],\n",
       " ['English', 'Physics', 'Chemistry', 'PhysicalEducation', 'Mathematics'],\n",
       " ['English', 'Physics', 'Chemistry', 'Economics', 'Mathematics'],\n",
       " ['English', 'Physics', 'Chemistry', 'Biology', 'Mathematics'],\n",
       " ['English', 'Economics', 'Accountancy', 'BusinessStudies', 'Mathematics']]"
      ]
     },
     "execution_count": 36,
     "metadata": {},
     "output_type": "execute_result"
    }
   ],
   "source": [
    "combinations"
   ]
  },
  {
   "cell_type": "code",
   "execution_count": 114,
   "metadata": {
    "collapsed": true
   },
   "outputs": [],
   "source": [
    "def check_data_has_combination(data, combination):\n",
    "    for subject in combination:\n",
    "        if subject not in data:\n",
    "            return False\n",
    "    return True\n",
    "\n",
    "def check_data_has_combination_test(data, combination):\n",
    "    for subject in combination:\n",
    "        if subject != 'Mathematics' and subject not in data:\n",
    "            return False\n",
    "    return True\n",
    "\n",
    "def get_data_from_combination(data, combination):\n",
    "    d = []\n",
    "    for subject in combination:\n",
    "        if subject in data:\n",
    "            d.append(data[subject])\n",
    "    return d"
   ]
  },
  {
   "cell_type": "code",
   "execution_count": 11,
   "metadata": {
    "collapsed": true
   },
   "outputs": [],
   "source": [
    "from sklearn.tree import DecisionTreeRegressor"
   ]
  },
  {
   "cell_type": "code",
   "execution_count": 48,
   "metadata": {},
   "outputs": [],
   "source": [
    "from sklearn.linear_model import LinearRegression"
   ]
  },
  {
   "cell_type": "code",
   "execution_count": 56,
   "metadata": {},
   "outputs": [],
   "source": [
    "regressors = []\n",
    "# 5 trees for 5 combinations \n",
    "for i in range(5):\n",
    "#     regressors.append(DecisionTreeRegressor(criterion = 'mae', max_depth = 10))\n",
    "    regressors.append(LinearRegression())"
   ]
  },
  {
   "cell_type": "code",
   "execution_count": 66,
   "metadata": {},
   "outputs": [],
   "source": [
    "TRAINING = 'training.json'\n",
    "TEST_INPUT = 'sample-test.in.json'\n",
    "TEST_OUTPUT = 'sample-test.out.json'\n",
    "\n",
    "# Training data\n",
    "X_s = [[] for _ in range(5)]\n",
    "Y_s = [[] for _ in range(5)]\n",
    "\n",
    "\n",
    "# Load training data\n",
    "with open(TRAINING, 'r') as fh:\n",
    "    lines = fh.readlines()\n",
    "    \n",
    "    for line in lines[1:]:\n",
    "        d = json.loads(line)\n",
    "        \n",
    "        for i, combination in enumerate(combinations):\n",
    "            if check_data_has_combination(d, combination):\n",
    "                sample = get_data_from_combination(d, combination)\n",
    "                X_s[i].append(sample[:4])\n",
    "                Y_s[i].append(sample[4])\n",
    "                break\n",
    "\n",
    "X_s = [np.array(X_s[i]) for i in range(5)]\n",
    "Y_s = [np.array(Y_s[i]) for i in range(5)]"
   ]
  },
  {
   "cell_type": "code",
   "execution_count": 84,
   "metadata": {},
   "outputs": [],
   "source": [
    "# Fit 5 regressor\n",
    "import numpy as np\n",
    "for i in range(5):\n",
    "    regressors[i].fit( X_s[i],  Y_s[i] )"
   ]
  },
  {
   "cell_type": "code",
   "execution_count": 139,
   "metadata": {},
   "outputs": [
    {
     "name": "stdout",
     "output_type": "stream",
     "text": [
      "Wrong answers for combination English, Physics, Chemistry, ComputerScience, Mathematics\n",
      "Score of the first four subjects = [3 5 6 5], predict Math score = 5, correct = 7\n",
      "Score of the first four subjects = [1 4 4 3], predict Math score = 3, correct = 7\n",
      "Score of the first four subjects = [2 5 4 4], predict Math score = 4, correct = 2\n",
      "Score of the first four subjects = [5 5 5 7], predict Math score = 5, correct = 3\n",
      "Score of the first four subjects = [1 4 2 3], predict Math score = 3, correct = 1\n",
      "Score of the first four subjects = [2 5 7 6], predict Math score = 5, correct = 7\n",
      "Score of the first four subjects = [2 2 2 4], predict Math score = 2, correct = 4\n",
      "Score of the first four subjects = [4 5 7 6], predict Math score = 6, correct = 3\n",
      "Wrong answers for combination English, Physics, Chemistry, PhysicalEducation, Mathematics\n",
      "Score of the first four subjects = [3 1 1 1], predict Math score = 1, correct = 3\n",
      "Score of the first four subjects = [5 3 4 5], predict Math score = 3, correct = 8\n",
      "Score of the first four subjects = [3 4 4 1], predict Math score = 4, correct = 6\n",
      "Score of the first four subjects = [3 7 4 4], predict Math score = 5, correct = 8\n",
      "Score of the first four subjects = [5 4 6 3], predict Math score = 5, correct = 2\n",
      "Score of the first four subjects = [4 3 3 5], predict Math score = 3, correct = 5\n",
      "Wrong answers for combination English, Physics, Chemistry, Economics, Mathematics\n",
      "Score of the first four subjects = [3 5 8 2], predict Math score = 4, correct = 1\n",
      "Wrong answers for combination English, Physics, Chemistry, Biology, Mathematics\n",
      "Score of the first four subjects = [4 2 1 2], predict Math score = 2, correct = 8\n",
      "Score of the first four subjects = [3 5 6 7], predict Math score = 6, correct = 8\n",
      "Score of the first four subjects = [3 5 6 4], predict Math score = 5, correct = 8\n",
      "Score of the first four subjects = [1 1 1 1], predict Math score = 1, correct = 3\n",
      "Score of the first four subjects = [2 2 4 2], predict Math score = 3, correct = 1\n",
      "Score of the first four subjects = [5 2 2 4], predict Math score = 2, correct = 4\n",
      "Score of the first four subjects = [1 3 4 1], predict Math score = 3, correct = 6\n",
      "Score of the first four subjects = [2 4 4 4], predict Math score = 4, correct = 6\n",
      "Wrong answers for combination English, Economics, Accountancy, BusinessStudies, Mathematics\n",
      "Score of the first four subjects = [6 3 2 5], predict Math score = 5, correct = 7\n",
      "Score of the first four subjects = [3 2 1 1], predict Math score = 3, correct = 1\n",
      "Score of the first four subjects = [4 6 4 3], predict Math score = 6, correct = 8\n",
      "Score of the first four subjects = [5 3 2 4], predict Math score = 4, correct = 6\n",
      "Score of the first four subjects = [1 1 1 3], predict Math score = 2, correct = 4\n"
     ]
    }
   ],
   "source": [
    "k = 20\n",
    "for i in range(5):\n",
    "    print ('Wrong answers for combination ' + combinations_text[i])\n",
    "    results = regressors[i].score(X_s[i][:], Y_s[i])\n",
    "    predicted = [int(t) for t in regressors[i].predict(X_s[i][:k])]\n",
    "    correct = [t for t in Y_s[i][:k]]\n",
    "    \n",
    "    for j in range(k):\n",
    "        if abs(correct[j] - predicted[j]) > 1:\n",
    "            print ('Score of the first four subjects = %s, predict Math score = %d, correct = %d' % (str(X_s[i][j]), predicted[j], correct[j]))"
   ]
  },
  {
   "cell_type": "markdown",
   "metadata": {},
   "source": [
    "Note for this case: \n",
    "\n",
    "`\n",
    "Input = [3 1 1 1]\n",
    "Predict = 1\n",
    "Correct = 3 \n",
    "`\n",
    "\n",
    "We should never predict a score to be at the two extremes, because we would always achieve better result, by predicting one score away from them. "
   ]
  },
  {
   "cell_type": "markdown",
   "metadata": {},
   "source": [
    "Let's break down this linear regressor"
   ]
  },
  {
   "cell_type": "code",
   "execution_count": 140,
   "metadata": {},
   "outputs": [
    {
     "name": "stdout",
     "output_type": "stream",
     "text": [
      "[ 0.07117858  0.35324092  0.33661138  0.22137701]\n",
      "[ 0.06556114  0.42409517  0.40598503  0.04620729]\n",
      "[ 0.14184456  0.32692396  0.23998285  0.29455252]\n",
      "[-0.09311078  0.31139386  0.46135802  0.12705874]\n",
      "[ 0.15533857  0.3530527   0.52918029  0.16509402]\n"
     ]
    }
   ],
   "source": [
    "for i in range(5):\n",
    "    print (regressors[i].coef_)"
   ]
  },
  {
   "cell_type": "markdown",
   "metadata": {},
   "source": [
    "You can see that most of the time, English score doesn't contribute much to one's Math score. In one of the combinations (English, Physics, Chemistry, Biology, Mathematics), it even has a ***negative*** contribution to Math score. This result is quite logical to me, because as a high school student, I did pretty well in all natural science subjects, but having no time to study English, I didn't get very high score in this subject.\n",
    "\n",
    "Physics, Chemistry and Accountancy are three subjects that correlate well with Math's score."
   ]
  },
  {
   "cell_type": "code",
   "execution_count": 161,
   "metadata": {},
   "outputs": [],
   "source": [
    "test_data = []\n",
    "\n",
    "with open(TEST_INPUT, 'r') as fh:\n",
    "    lines = fh.readlines()\n",
    "    for line in lines[1:]:\n",
    "        d = json.loads(line)\n",
    "        \n",
    "        test_data.append(d)\n",
    "        \n",
    "test_labels = []\n",
    "with open(TEST_OUTPUT, 'r') as fh:\n",
    "    lines = fh.readlines()\n",
    "\n",
    "    for line in lines:\n",
    "        d = int(line.strip())\n",
    "\n",
    "        test_labels.append(d)"
   ]
  },
  {
   "cell_type": "code",
   "execution_count": 165,
   "metadata": {},
   "outputs": [],
   "source": [
    "def evaluate(r, test_data, test_labels):\n",
    "    predicted = []\n",
    "    origin_predicted = []\n",
    "    \n",
    "    for d in test_data:\n",
    "        for i, combination in enumerate(combinations):\n",
    "            if check_data_has_combination_test(d, combination):\n",
    "                sample_X = get_data_from_combination(d, combination)\n",
    "                y = int(r[i].predict([sample_X])[0])\n",
    "                origin_predicted.append(y)\n",
    "                if y == 1:\n",
    "                    y = 2\n",
    "                if y >= 8 :\n",
    "                    y = 7\n",
    "                predicted.append(y)\n",
    "                break\n",
    "        else:\n",
    "            # Just average it\n",
    "            sum = 0\n",
    "            for subject in d:\n",
    "                if subject != 'serial':\n",
    "                    sum += d[subject]\n",
    "            predicted.append(sum // 4)\n",
    "    \n",
    "    C = 0\n",
    "    W = 0\n",
    "    for predicted_y, y in zip(predicted, test_labels):\n",
    "        if abs(y - predicted_y) <= 1:\n",
    "            C += 1\n",
    "        else:\n",
    "            W += 1\n",
    "    print ( (C - W) * 100 / (C + W) )\n",
    "    \n",
    "    return origin_predicted"
   ]
  },
  {
   "cell_type": "code",
   "execution_count": 166,
   "metadata": {},
   "outputs": [
    {
     "name": "stdout",
     "output_type": "stream",
     "text": [
      "36.52524090320725\n"
     ]
    }
   ],
   "source": [
    "origin_predicted = evaluate(regressors, test_data, test_labels)"
   ]
  },
  {
   "cell_type": "markdown",
   "metadata": {},
   "source": [
    "** On Hackkerank **\n",
    "\n",
    "Linear regression approach receive a score of 37.68\n",
    "(32 is passing score)."
   ]
  },
  {
   "cell_type": "markdown",
   "metadata": {},
   "source": [
    "At this point, I recognize that we didn't use the following piece of information:\n",
    "\n",
    "`\n",
    "The student is first assessed on a scale of 100. (S)He needs a score of at least 33% to pass in the subject. Among those who pass:\n",
    "\n",
    "Grade 1 is assigned to the top one-eighth of students who pass the course.  \n",
    "Grade 2 is assigned to the next one-eighth of students who pass the course.  \n",
    ".....\n",
    "Grade 8 is assigned to the last one-eighth of students who pass the course.  \n",
    "If more than 1 student share the same score and lie in the margin, they share the higher grade.\n",
    "`\n",
    "\n",
    "Is there any a good way to incorporate this information into our estimation?\n",
    "\n",
    "Firstly, let's draw a histogram of our prediction."
   ]
  },
  {
   "cell_type": "code",
   "execution_count": 148,
   "metadata": {},
   "outputs": [],
   "source": [
    "%matplotlib inline\n",
    "import pylab as plt"
   ]
  },
  {
   "cell_type": "code",
   "execution_count": 157,
   "metadata": {},
   "outputs": [
    {
     "data": {
      "text/plain": [
       "(array([  8219.,  13350.,  12339.,  11298.,   9755.,   8622.,   4663.,\n",
       "           409.,    152.]),\n",
       " array([  1.,   2.,   3.,   4.,   5.,   6.,   7.,   8.,   9.,  10.]),\n",
       " <a list of 9 Patch objects>)"
      ]
     },
     "execution_count": 157,
     "metadata": {},
     "output_type": "execute_result"
    },
    {
     "data": {
      "image/png": "[encoded data removed]",
      "text/plain": [
       "<matplotlib.figure.Figure at 0x22382c52550>"
      ]
     },
     "metadata": {},
     "output_type": "display_data"
    }
   ],
   "source": [
    "plt.hist(origin_predicted,  9 )"
   ]
  },
  {
   "cell_type": "markdown",
   "metadata": {},
   "source": [
    "Our predictor is quite biased, giving nearly 14000 people rank 2, and only 4600 people get rank 7, and 400 get rank 8, some even get rank 9, which is an invalid rank. What if instead of using directly the predicted score for finally score, we rerank these predicted score, and produce scores evenly into bins."
   ]
  },
  {
   "cell_type": "code",
   "execution_count": 170,
   "metadata": {
    "collapsed": true
   },
   "outputs": [],
   "source": [
    "def evaluate_2(r, test_data, test_labels):\n",
    "    origin_predicted = []\n",
    "    \n",
    "    for test_index, d in enumerate(test_data):\n",
    "        for i, combination in enumerate(combinations):\n",
    "            if check_data_has_combination_test(d, combination):\n",
    "                sample_X = get_data_from_combination(d, combination)\n",
    "                y = r[i].predict([sample_X])[0]\n",
    "                origin_predicted.append( (test_index, y) )\n",
    "                break\n",
    "        else:\n",
    "            # Just average it\n",
    "            sum = 0\n",
    "            for subject in d:\n",
    "                if subject != 'serial':\n",
    "                    sum += d[subject]\n",
    "            origin_predicted.append((test_index, sum // 4))\n",
    "    \n",
    "    sorted_origin_predicted = sorted(origin_predicted, key = lambda t : t[1])\n",
    "    \n",
    "    # Rescale origin_predicted into predicted\n",
    "    predicted = np.zeros(len(test_data))\n",
    "    \n",
    "    for i, d in enumerate(sorted_origin_predicted):\n",
    "        test_index, _ = d\n",
    "        y = (i * 8) // len(sorted_origin_predicted) + 1\n",
    "        \n",
    "        if y == 1:\n",
    "            y = 2\n",
    "        if y == 8 :\n",
    "            y = 7\n",
    "            \n",
    "        predicted[test_index] = y\n",
    "    \n",
    "    C = 0\n",
    "    W = 0\n",
    "    for predicted_y, y in zip(predicted, test_labels):\n",
    "        if abs(y - predicted_y) <= 1:\n",
    "            C += 1\n",
    "        else:\n",
    "            W += 1\n",
    "    print ( (C - W) * 100 / (C + W) )\n",
    "    \n",
    "    return predicted"
   ]
  },
  {
   "cell_type": "code",
   "execution_count": 171,
   "metadata": {},
   "outputs": [
    {
     "name": "stdout",
     "output_type": "stream",
     "text": [
      "43.353947936142674\n"
     ]
    }
   ],
   "source": [
    "predicted = evaluate_2(regressors, test_data, test_labels)"
   ]
  },
  {
   "cell_type": "code",
   "execution_count": 175,
   "metadata": {},
   "outputs": [
    {
     "data": {
      "text/plain": [
       "(array([ 17383.,   8691.,   8691.,   8692.,   8691.,  17382.]),\n",
       " array([ 2.        ,  2.83333333,  3.66666667,  4.5       ,  5.33333333,\n",
       "         6.16666667,  7.        ]),\n",
       " <a list of 6 Patch objects>)"
      ]
     },
     "execution_count": 175,
     "metadata": {},
     "output_type": "execute_result"
    },
    {
     "data": {
      "image/png": "[encoded data removed]",
      "text/plain": [
       "<matplotlib.figure.Figure at 0x22384fa46d8>"
      ]
     },
     "metadata": {},
     "output_type": "display_data"
    }
   ],
   "source": [
    "plt.hist(predicted,  6 )"
   ]
  },
  {
   "cell_type": "markdown",
   "metadata": {},
   "source": [
    "Now you have a nice score distribution for Math, note that we lump together rank 1 and 2, and together rank 7 and 8.\n",
    "\n",
    "Running this on Hackerank give us a score of 42.97"
   ]
  },
  {
   "cell_type": "markdown",
   "metadata": {},
   "source": [
    "Following is the full code for a score of 42.97"
   ]
  },
  {
   "cell_type": "code",
   "execution_count": 125,
   "metadata": {
    "collapsed": true
   },
   "outputs": [],
   "source": [
    "import json\n",
    "import numpy as np\n",
    "\n",
    "combinations = ['English, Physics, Chemistry, ComputerScience, Mathematics',\n",
    "'English, Physics, Chemistry, PhysicalEducation, Mathematics',\n",
    "'English, Physics, Chemistry, Economics, Mathematics',\n",
    "'English, Physics, Chemistry, Biology, Mathematics',  \n",
    "'English, Economics, Accountancy, BusinessStudies, Mathematics']\n",
    "\n",
    "combinations = [c.split(', ') for c in combinations]\n",
    "\n",
    "def check_data_has_combination(data, combination):\n",
    "    for subject in combination:\n",
    "        if subject not in data:\n",
    "            return False\n",
    "    return True\n",
    "\n",
    "def check_data_has_combination_test(data, combination):\n",
    "    for subject in combination:\n",
    "        if subject != 'Mathematics' and subject not in data:\n",
    "            return False\n",
    "    return True\n",
    "\n",
    "def get_data_from_combination(data, combination):\n",
    "    d = []\n",
    "    for subject in combination:\n",
    "        if subject in data:\n",
    "            d.append(data[subject])\n",
    "    return d\n",
    "\n",
    "from sklearn.tree import DecisionTreeRegressor\n",
    "from sklearn.linear_model import LinearRegression\n",
    "\n",
    "regressors = []\n",
    "# 5 trees for 5 combinations \n",
    "for i in range(5):\n",
    "    #regressors.append(DecisionTreeRegressor(criterion = 'mae', max_depth = 10))\n",
    "    regressors.append(LinearRegression())\n",
    "    \n",
    "TRAINING = 'training.json'\n",
    "\n",
    "# Training data\n",
    "X_s = [[] for _ in range(5)]\n",
    "Y_s = [[] for _ in range(5)]\n",
    "\n",
    "# Load training data\n",
    "with open(TRAINING, 'r') as fh:\n",
    "    lines = fh.readlines()\n",
    "    \n",
    "    for line in lines[1:]:\n",
    "        d = json.loads(line)\n",
    "        \n",
    "        for i, combination in enumerate(combinations):\n",
    "            if check_data_has_combination(d, combination):\n",
    "                sample = get_data_from_combination(d, combination)\n",
    "                X_s[i].append(sample[:4])\n",
    "                Y_s[i].append(sample[4])\n",
    "                break\n",
    "\n",
    "X_s = [np.array(X_s[i]) for i in range(5)]\n",
    "Y_s = [np.array(Y_s[i]) for i in range(5)]\n",
    "\n",
    "for i in range(5):\n",
    "    regressors[i].fit(X_s[i], Y_s[i])\n",
    "    \n",
    "    \n",
    "# Testing over the input data\n",
    "import sys\n",
    "lines = sys.stdin.readlines()\n",
    "\n",
    "origin_predicted = []\n",
    "\n",
    "no_of_test = len(lines[1:])\n",
    "\n",
    "for test_index, line in enumerate(lines[1:]):\n",
    "    d = json.loads(line)\n",
    "\n",
    "    for i, combination in enumerate(combinations):\n",
    "        if check_data_has_combination_test(d, combination):\n",
    "            sample_X = get_data_from_combination(d, combination)\n",
    "            y = regressors[i].predict([sample_X])[0]\n",
    "            origin_predicted.append( (test_index, y) )\n",
    "            break\n",
    "    else:\n",
    "        # Just average it\n",
    "        sum = 0\n",
    "        for subject in d:\n",
    "            if subject != 'serial':\n",
    "                sum += d[subject]\n",
    "        origin_predicted.append( (test_index, sum // 4) )\n",
    "\n",
    "sorted_origin_predicted = sorted(origin_predicted, key = lambda t : t[1])\n",
    "predicted = np.zeros(no_of_test)\n",
    "\n",
    "for i, d in enumerate(sorted_origin_predicted):\n",
    "    test_index, _ = d\n",
    "    y = (i * 8) // len(sorted_origin_predicted) + 1\n",
    "\n",
    "    if y == 1:\n",
    "        y = 2\n",
    "    if y == 8 :\n",
    "        y = 7\n",
    "    \n",
    "    predicted[test_index] = y\n",
    "\n",
    "for i in range(no_of_test):\n",
    "    print (int(predicted[i]))"
   ]
  },
  {
   "cell_type": "markdown",
   "metadata": {},
   "source": []
  },
  {
   "cell_type": "markdown",
   "metadata": {},
   "source": [
    "\n"
   ]
  }
 ],
 "metadata": {
  "kernelspec": {
   "display_name": "Python 3",
   "language": "python",
   "name": "python3"
  },
  "language_info": {
   "codemirror_mode": {
    "name": "ipython",
    "version": 3
   },
   "file_extension": ".py",
   "mimetype": "text/x-python",
   "name": "python",
   "nbconvert_exporter": "python",
   "pygments_lexer": "ipython3",
   "version": "3.5.4"
  }
 },
 "nbformat": 4,
 "nbformat_minor": 2
}
