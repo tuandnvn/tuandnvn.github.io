{
 "cells": [
  {
   "cell_type": "code",
   "execution_count": 13,
   "metadata": {},
   "outputs": [
    {
     "name": "stdout",
     "output_type": "stream",
     "text": [
      "('1908', 'January', '5.0', '-1.4')\n",
      "('1908', 'February', '7.3', '1.9')\n",
      "('1908', 'March', '6.2', '0.3')\n",
      "('1908', 'April', 'Missing_1', '2.1')\n",
      "('1908', 'May', 'Missing_2', '7.7')\n",
      "('1908', 'June', '17.7', '8.7')\n",
      "('1908', 'July', 'Missing_3', '11.0')\n",
      "('1908', 'August', '17.5', '9.7')\n",
      "('1908', 'September', '16.3', '8.4')\n",
      "('1908', 'October', '14.6', '8.0')\n",
      "('1908', 'November', '9.6', '3.4')\n",
      "('1908', 'December', '5.8', 'Missing_4')\n",
      "('1909', 'January', '5.0', '0.1')\n",
      "('1909', 'February', '5.5', '-0.3')\n",
      "('1909', 'March', '5.6', '-0.3')\n",
      "('1909', 'April', '12.2', '3.3')\n",
      "('1909', 'May', '14.7', '4.8')\n",
      "('1909', 'June', '15.0', '7.5')\n",
      "('1909', 'July', '17.3', '10.8')\n",
      "('1909', 'August', '18.8', '10.7')\n"
     ]
    }
   ],
   "source": [
    "import sys\n",
    "\n",
    "sample_input = \"\"\"20\n",
    "yyyy    month   tmax    tmin\n",
    "1908    January 5.0 -1.4\n",
    "1908    February    7.3 1.9\n",
    "1908    March   6.2 0.3\n",
    "1908    April   Missing_1   2.1\n",
    "1908    May Missing_2   7.7\n",
    "1908    June    17.7    8.7\n",
    "1908    July    Missing_3   11.0\n",
    "1908    August  17.5    9.7\n",
    "1908    September   16.3    8.4\n",
    "1908    October 14.6    8.0\n",
    "1908    November    9.6 3.4\n",
    "1908    December    5.8 Missing_4\n",
    "1909    January 5.0 0.1\n",
    "1909    February    5.5 -0.3\n",
    "1909    March   5.6 -0.3\n",
    "1909    April   12.2    3.3\n",
    "1909    May 14.7    4.8\n",
    "1909    June    15.0    7.5\n",
    "1909    July    17.3    10.8\n",
    "1909    August  18.8    10.7  \"\"\"\n",
    "\n",
    "months = {'January' : 1, 'February': 2, 'March': 3, 'April': 4, 'May': 5, 'June': 6, \n",
    "         'July': 7, 'August': 8, 'September': 9, 'October': 10, 'November': 11, 'December': 12 }\n",
    "\n",
    "lines = sample_input.split('\\n')\n",
    "\n",
    "training = []\n",
    "missing = []\n",
    "\n",
    "missing_prefix = 'Missing_'\n",
    "\n",
    "for line in lines[2:]:\n",
    "    year, month, tmax, tmin = line.strip().split()\n",
    "    print ((year, month, tmax, tmin))\n",
    "    if missing_prefix in tmax:\n",
    "        index = int(tmax[len(missing_prefix):])\n",
    "        missing.append((int(year), months[month], None, float(tmin)))\n",
    "        \n",
    "    elif missing_prefix in tmin:\n",
    "        index = int(tmin[len(missing_prefix):])\n",
    "        missing.append((int(year), months[month], float(tmax), None))\n",
    "    \n",
    "    else:\n",
    "        training.append ((int(year), months[month], float(tmax), float(tmin)))"
   ]
  },
  {
   "cell_type": "code",
   "execution_count": 12,
   "metadata": {},
   "outputs": [
    {
     "name": "stdout",
     "output_type": "stream",
     "text": [
      "defaultdict(<class 'list'>, {1: [(1908, 6.4), (1909, 4.9)], 2: [(1908, 5.4), (1909, 5.8)], 3: [(1908, 5.9), (1909, 5.8999999999999995)], 4: [(1909, 8.899999999999999)], 5: [(1909, 9.899999999999999)], 6: [(1908, 9.0), (1909, 7.5)], 7: [(1909, 6.5)], 8: [(1908, 7.800000000000001), (1909, 8.100000000000001)], 9: [(1908, 7.9)], 10: [(1908, 6.6)], 11: [(1908, 6.199999999999999)]})\n"
     ]
    }
   ],
   "source": [
    "from collections import defaultdict\n",
    "# Calculate difference for each month\n",
    "diffs = defaultdict(list)\n",
    "for year, month, tmax, tmin in training:\n",
    "    diffs[month].append((year, tmax - tmin))\n",
    "print (diffs)"
   ]
  },
  {
   "cell_type": "code",
   "execution_count": null,
   "metadata": {
    "collapsed": true
   },
   "outputs": [],
   "source": [
    "for year, month, tmax, tmin in missing:\n",
    "    if len(diffs[month]) == 0:\n",
    "        # We don't have statistic for this month\n",
    "        # Let's use statistic from two adjacent months\n",
    "        prev_month = (month + 10) % 12 + 1\n",
    "        next_month = month % 12 + 1\n",
    "        \n",
    "        average_diff_prev = None\n",
    "        if  len(diffs[prev_month]) != 0:\n",
    "            average_diff_prev = sum(t[1] for t in diffs[prev_month]) / len(diffs[prev_month])\n",
    "            \n",
    "        average_diff_next = None\n",
    "        if  len(diffs[next_month]) != 0:\n",
    "            average_diff_next = sum(t[1] for t in diffs[next_month]) / len(diffs[next_month])\n",
    "        \n",
    "    average_diff = sum(t[1] for t in diffs[month]) / len(diffs[month])\n",
    "    \n",
    "    if tmax is None:\n",
    "        # Interpolate from all the same months\n",
    "        tmax = tmin + average_diff\n",
    "        print (tmax)\n",
    "    if tmin is None:\n",
    "        tmin = tmax - average_diff\n",
    "        print (tmin)"
   ]
  }
 ],
 "metadata": {
  "kernelspec": {
   "display_name": "Python 3",
   "language": "python",
   "name": "python3"
  },
  "language_info": {
   "codemirror_mode": {
    "name": "ipython",
    "version": 3
   },
   "file_extension": ".py",
   "mimetype": "text/x-python",
   "name": "python",
   "nbconvert_exporter": "python",
   "pygments_lexer": "ipython3",
   "version": "3.5.4"
  }
 },
 "nbformat": 4,
 "nbformat_minor": 2
}
